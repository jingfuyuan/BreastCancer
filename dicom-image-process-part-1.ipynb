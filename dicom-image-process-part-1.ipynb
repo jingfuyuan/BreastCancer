{
 "cells": [
  {
   "cell_type": "code",
   "execution_count": 1,
   "id": "d54dc1d6",
   "metadata": {
    "_cell_guid": "b1076dfc-b9ad-4769-8c92-a6c4dae69d19",
    "_uuid": "8f2839f25d086af736a60e9eeb907d3b93b6e0e5",
    "execution": {
     "iopub.execute_input": "2023-02-26T12:11:38.492706Z",
     "iopub.status.busy": "2023-02-26T12:11:38.491386Z",
     "iopub.status.idle": "2023-02-26T12:11:38.504118Z",
     "shell.execute_reply": "2023-02-26T12:11:38.502685Z"
    },
    "papermill": {
     "duration": 0.023637,
     "end_time": "2023-02-26T12:11:38.507253",
     "exception": false,
     "start_time": "2023-02-26T12:11:38.483616",
     "status": "completed"
    },
    "tags": []
   },
   "outputs": [],
   "source": [
    "# This Python 3 environment comes with many helpful analytics libraries installed\n",
    "# It is defined by the kaggle/python Docker image: https://github.com/kaggle/docker-python\n",
    "# For example, here's several helpful packages to load\n",
    "\n",
    "import numpy as np # linear algebra\n",
    "import pandas as pd # data processing, CSV file I/O (e.g. pd.read_csv)\n",
    "\n",
    "# Input data files are available in the read-only \"../input/\" directory\n",
    "# For example, running this (by clicking run or pressing Shift+Enter) will list all files under the input directory\n",
    "\n",
    "import os\n",
    "# for dirname, _, filenames in os.walk('/kaggle/input'):\n",
    "#     for filename in filenames:\n",
    "#         print(os.path.join(dirname, filename))\n",
    "\n",
    "# You can write up to 20GB to the current directory (/kaggle/working/) that gets preserved as output when you create a version using \"Save & Run All\" \n",
    "# You can also write temporary files to /kaggle/temp/, but they won't be saved outside of the current session"
   ]
  },
  {
   "cell_type": "code",
   "execution_count": 2,
   "id": "83d2449f",
   "metadata": {
    "execution": {
     "iopub.execute_input": "2023-02-26T12:11:38.521746Z",
     "iopub.status.busy": "2023-02-26T12:11:38.519903Z",
     "iopub.status.idle": "2023-02-26T12:12:50.330756Z",
     "shell.execute_reply": "2023-02-26T12:12:50.329455Z"
    },
    "papermill": {
     "duration": 71.821207,
     "end_time": "2023-02-26T12:12:50.333560",
     "exception": false,
     "start_time": "2023-02-26T12:11:38.512353",
     "status": "completed"
    },
    "tags": []
   },
   "outputs": [
    {
     "name": "stdout",
     "output_type": "stream",
     "text": [
      "Processing /kaggle/input/dicom-packages/dicomsdl-0.109.1-cp37-cp37m-manylinux_2_12_x86_64.manylinux2010_x86_64.whl\r\n",
      "Installing collected packages: dicomsdl\r\n",
      "Successfully installed dicomsdl-0.109.1\r\n",
      "\u001b[33mWARNING: Running pip as the 'root' user can result in broken permissions and conflicting behaviour with the system package manager. It is recommended to use a virtual environment instead: https://pip.pypa.io/warnings/venv\u001b[0m\u001b[33m\r\n",
      "\u001b[0mProcessing /kaggle/input/dicom-packages/python_gdcm-3.0.21-cp37-cp37m-manylinux_2_17_x86_64.manylinux2014_x86_64.whl\r\n",
      "Installing collected packages: python-gdcm\r\n",
      "Successfully installed python-gdcm-3.0.21\r\n",
      "\u001b[33mWARNING: Running pip as the 'root' user can result in broken permissions and conflicting behaviour with the system package manager. It is recommended to use a virtual environment instead: https://pip.pypa.io/warnings/venv\u001b[0m\u001b[33m\r\n",
      "\u001b[0mProcessing /kaggle/input/dicom-packages/pylibjpeg-1.4.0-py3-none-any.whl\r\n",
      "Requirement already satisfied: numpy in /opt/conda/lib/python3.7/site-packages (from pylibjpeg==1.4.0) (1.21.6)\r\n",
      "Installing collected packages: pylibjpeg\r\n",
      "Successfully installed pylibjpeg-1.4.0\r\n",
      "\u001b[33mWARNING: Running pip as the 'root' user can result in broken permissions and conflicting behaviour with the system package manager. It is recommended to use a virtual environment instead: https://pip.pypa.io/warnings/venv\u001b[0m\u001b[33m\r\n",
      "\u001b[0mProcessing /kaggle/input/dicom-packages/pylibjpeg_libjpeg-1.3.3-cp37-cp37m-manylinux_2_17_x86_64.manylinux2014_x86_64.whl\r\n",
      "Requirement already satisfied: numpy>=1.20 in /opt/conda/lib/python3.7/site-packages (from pylibjpeg-libjpeg==1.3.3) (1.21.6)\r\n",
      "Installing collected packages: pylibjpeg-libjpeg\r\n",
      "Successfully installed pylibjpeg-libjpeg-1.3.3\r\n",
      "\u001b[33mWARNING: Running pip as the 'root' user can result in broken permissions and conflicting behaviour with the system package manager. It is recommended to use a virtual environment instead: https://pip.pypa.io/warnings/venv\u001b[0m\u001b[33m\r\n",
      "\u001b[0mProcessing /kaggle/input/dicom-packages/pylibjpeg_openjpeg-1.3.1-cp37-cp37m-manylinux_2_17_x86_64.manylinux2014_x86_64.whl\r\n",
      "Requirement already satisfied: numpy>=1.20 in /opt/conda/lib/python3.7/site-packages (from pylibjpeg-openjpeg==1.3.1) (1.21.6)\r\n",
      "Installing collected packages: pylibjpeg-openjpeg\r\n",
      "Successfully installed pylibjpeg-openjpeg-1.3.1\r\n",
      "\u001b[33mWARNING: Running pip as the 'root' user can result in broken permissions and conflicting behaviour with the system package manager. It is recommended to use a virtual environment instead: https://pip.pypa.io/warnings/venv\u001b[0m\u001b[33m\r\n",
      "\u001b[0mProcessing /kaggle/input/dicom-packages/pylibjpeg_rle-1.3.0-cp37-cp37m-manylinux_2_17_x86_64.manylinux2014_x86_64.whl\r\n",
      "Requirement already satisfied: numpy>=1.20 in /opt/conda/lib/python3.7/site-packages (from pylibjpeg-rle==1.3.0) (1.21.6)\r\n",
      "Installing collected packages: pylibjpeg-rle\r\n",
      "Successfully installed pylibjpeg-rle-1.3.0\r\n",
      "\u001b[33mWARNING: Running pip as the 'root' user can result in broken permissions and conflicting behaviour with the system package manager. It is recommended to use a virtual environment instead: https://pip.pypa.io/warnings/venv\u001b[0m\u001b[33m\r\n",
      "\u001b[0m"
     ]
    }
   ],
   "source": [
    "!pip install --no-index /kaggle/input/dicom-packages/dicomsdl-0.109.1-cp37-cp37m-manylinux_2_12_x86_64.manylinux2010_x86_64.whl\n",
    "!pip install --no-index /kaggle/input/dicom-packages/python_gdcm-3.0.21-cp37-cp37m-manylinux_2_17_x86_64.manylinux2014_x86_64.whl\n",
    "!pip install --no-index /kaggle/input/dicom-packages/pylibjpeg-1.4.0-py3-none-any.whl\n",
    "!pip install --no-index /kaggle/input/dicom-packages/pylibjpeg_libjpeg-1.3.3-cp37-cp37m-manylinux_2_17_x86_64.manylinux2014_x86_64.whl\n",
    "!pip install --no-index /kaggle/input/dicom-packages/pylibjpeg_openjpeg-1.3.1-cp37-cp37m-manylinux_2_17_x86_64.manylinux2014_x86_64.whl\n",
    "!pip install --no-index /kaggle/input/dicom-packages/pylibjpeg_rle-1.3.0-cp37-cp37m-manylinux_2_17_x86_64.manylinux2014_x86_64.whl"
   ]
  },
  {
   "cell_type": "code",
   "execution_count": 3,
   "id": "f73325f8",
   "metadata": {
    "execution": {
     "iopub.execute_input": "2023-02-26T12:12:50.348334Z",
     "iopub.status.busy": "2023-02-26T12:12:50.347908Z",
     "iopub.status.idle": "2023-02-26T12:12:50.950018Z",
     "shell.execute_reply": "2023-02-26T12:12:50.948888Z"
    },
    "papermill": {
     "duration": 0.61328,
     "end_time": "2023-02-26T12:12:50.953147",
     "exception": false,
     "start_time": "2023-02-26T12:12:50.339867",
     "status": "completed"
    },
    "tags": []
   },
   "outputs": [],
   "source": [
    "import pydicom\n",
    "import dicomsdl\n",
    "import matplotlib.pyplot as plt\n",
    "import cv2\n",
    "from PIL import Image"
   ]
  },
  {
   "cell_type": "code",
   "execution_count": 4,
   "id": "af43cd88",
   "metadata": {
    "execution": {
     "iopub.execute_input": "2023-02-26T12:12:50.968025Z",
     "iopub.status.busy": "2023-02-26T12:12:50.967596Z",
     "iopub.status.idle": "2023-02-26T12:12:52.107672Z",
     "shell.execute_reply": "2023-02-26T12:12:52.105981Z"
    },
    "papermill": {
     "duration": 1.150956,
     "end_time": "2023-02-26T12:12:52.110552",
     "exception": false,
     "start_time": "2023-02-26T12:12:50.959596",
     "status": "completed"
    },
    "tags": []
   },
   "outputs": [
    {
     "data": {
      "text/html": [
       "<div>\n",
       "<style scoped>\n",
       "    .dataframe tbody tr th:only-of-type {\n",
       "        vertical-align: middle;\n",
       "    }\n",
       "\n",
       "    .dataframe tbody tr th {\n",
       "        vertical-align: top;\n",
       "    }\n",
       "\n",
       "    .dataframe thead th {\n",
       "        text-align: right;\n",
       "    }\n",
       "</style>\n",
       "<table border=\"1\" class=\"dataframe\">\n",
       "  <thead>\n",
       "    <tr style=\"text-align: right;\">\n",
       "      <th></th>\n",
       "      <th>site_id</th>\n",
       "      <th>patient_id</th>\n",
       "      <th>image_id</th>\n",
       "      <th>laterality</th>\n",
       "      <th>view</th>\n",
       "      <th>age</th>\n",
       "      <th>cancer</th>\n",
       "      <th>biopsy</th>\n",
       "      <th>invasive</th>\n",
       "      <th>BIRADS</th>\n",
       "      <th>implant</th>\n",
       "      <th>density</th>\n",
       "      <th>machine_id</th>\n",
       "      <th>difficult_negative_case</th>\n",
       "      <th>file_path</th>\n",
       "    </tr>\n",
       "  </thead>\n",
       "  <tbody>\n",
       "    <tr>\n",
       "      <th>0</th>\n",
       "      <td>2</td>\n",
       "      <td>10006</td>\n",
       "      <td>462822612</td>\n",
       "      <td>L</td>\n",
       "      <td>CC</td>\n",
       "      <td>61.0</td>\n",
       "      <td>0</td>\n",
       "      <td>0</td>\n",
       "      <td>0</td>\n",
       "      <td>NaN</td>\n",
       "      <td>0</td>\n",
       "      <td>NaN</td>\n",
       "      <td>29</td>\n",
       "      <td>False</td>\n",
       "      <td>/kaggle/input/rsna-breast-cancer-detection/tra...</td>\n",
       "    </tr>\n",
       "    <tr>\n",
       "      <th>1</th>\n",
       "      <td>2</td>\n",
       "      <td>10006</td>\n",
       "      <td>1459541791</td>\n",
       "      <td>L</td>\n",
       "      <td>MLO</td>\n",
       "      <td>61.0</td>\n",
       "      <td>0</td>\n",
       "      <td>0</td>\n",
       "      <td>0</td>\n",
       "      <td>NaN</td>\n",
       "      <td>0</td>\n",
       "      <td>NaN</td>\n",
       "      <td>29</td>\n",
       "      <td>False</td>\n",
       "      <td>/kaggle/input/rsna-breast-cancer-detection/tra...</td>\n",
       "    </tr>\n",
       "    <tr>\n",
       "      <th>2</th>\n",
       "      <td>2</td>\n",
       "      <td>10006</td>\n",
       "      <td>1864590858</td>\n",
       "      <td>R</td>\n",
       "      <td>MLO</td>\n",
       "      <td>61.0</td>\n",
       "      <td>0</td>\n",
       "      <td>0</td>\n",
       "      <td>0</td>\n",
       "      <td>NaN</td>\n",
       "      <td>0</td>\n",
       "      <td>NaN</td>\n",
       "      <td>29</td>\n",
       "      <td>False</td>\n",
       "      <td>/kaggle/input/rsna-breast-cancer-detection/tra...</td>\n",
       "    </tr>\n",
       "    <tr>\n",
       "      <th>3</th>\n",
       "      <td>2</td>\n",
       "      <td>10006</td>\n",
       "      <td>1874946579</td>\n",
       "      <td>R</td>\n",
       "      <td>CC</td>\n",
       "      <td>61.0</td>\n",
       "      <td>0</td>\n",
       "      <td>0</td>\n",
       "      <td>0</td>\n",
       "      <td>NaN</td>\n",
       "      <td>0</td>\n",
       "      <td>NaN</td>\n",
       "      <td>29</td>\n",
       "      <td>False</td>\n",
       "      <td>/kaggle/input/rsna-breast-cancer-detection/tra...</td>\n",
       "    </tr>\n",
       "    <tr>\n",
       "      <th>4</th>\n",
       "      <td>2</td>\n",
       "      <td>10011</td>\n",
       "      <td>220375232</td>\n",
       "      <td>L</td>\n",
       "      <td>CC</td>\n",
       "      <td>55.0</td>\n",
       "      <td>0</td>\n",
       "      <td>0</td>\n",
       "      <td>0</td>\n",
       "      <td>0.0</td>\n",
       "      <td>0</td>\n",
       "      <td>NaN</td>\n",
       "      <td>21</td>\n",
       "      <td>True</td>\n",
       "      <td>/kaggle/input/rsna-breast-cancer-detection/tra...</td>\n",
       "    </tr>\n",
       "  </tbody>\n",
       "</table>\n",
       "</div>"
      ],
      "text/plain": [
       "   site_id  patient_id    image_id laterality view   age  cancer  biopsy  \\\n",
       "0        2       10006   462822612          L   CC  61.0       0       0   \n",
       "1        2       10006  1459541791          L  MLO  61.0       0       0   \n",
       "2        2       10006  1864590858          R  MLO  61.0       0       0   \n",
       "3        2       10006  1874946579          R   CC  61.0       0       0   \n",
       "4        2       10011   220375232          L   CC  55.0       0       0   \n",
       "\n",
       "   invasive  BIRADS  implant density  machine_id  difficult_negative_case  \\\n",
       "0         0     NaN        0     NaN          29                    False   \n",
       "1         0     NaN        0     NaN          29                    False   \n",
       "2         0     NaN        0     NaN          29                    False   \n",
       "3         0     NaN        0     NaN          29                    False   \n",
       "4         0     0.0        0     NaN          21                     True   \n",
       "\n",
       "                                           file_path  \n",
       "0  /kaggle/input/rsna-breast-cancer-detection/tra...  \n",
       "1  /kaggle/input/rsna-breast-cancer-detection/tra...  \n",
       "2  /kaggle/input/rsna-breast-cancer-detection/tra...  \n",
       "3  /kaggle/input/rsna-breast-cancer-detection/tra...  \n",
       "4  /kaggle/input/rsna-breast-cancer-detection/tra...  "
      ]
     },
     "execution_count": 4,
     "metadata": {},
     "output_type": "execute_result"
    }
   ],
   "source": [
    "\n",
    "train_df = pd.read_csv(\"/kaggle/input/rsna-breast-cancer-detection/train.csv\")\n",
    "train_image_dir = \"/kaggle/input/rsna-breast-cancer-detection/train_images/\"\n",
    "train_df['file_path'] = train_df.apply(lambda r: os.path.join(train_image_dir, str(r['patient_id']), str(r['image_id'])+\".dcm\"), axis=1)\n",
    "train_df.head()"
   ]
  },
  {
   "cell_type": "code",
   "execution_count": 5,
   "id": "3681c674",
   "metadata": {
    "execution": {
     "iopub.execute_input": "2023-02-26T12:12:52.126097Z",
     "iopub.status.busy": "2023-02-26T12:12:52.125639Z",
     "iopub.status.idle": "2023-02-26T12:12:52.131011Z",
     "shell.execute_reply": "2023-02-26T12:12:52.130023Z"
    },
    "papermill": {
     "duration": 0.015871,
     "end_time": "2023-02-26T12:12:52.133201",
     "exception": false,
     "start_time": "2023-02-26T12:12:52.117330",
     "status": "completed"
    },
    "tags": []
   },
   "outputs": [],
   "source": [
    "# pydicom_img_dir = \"/kaggle/working/pydicom_jpg\"\n",
    "# dicomsdl_img_dir = \"/kaggle/working/dicomsdl_jpg\"\n",
    "# if not os.path.exists(pydicom_img_dir):\n",
    "#     os.mkdir(pydicom_img_dir)\n",
    "# if not os.path.exists(dicomsdl_img_dir):\n",
    "#     os.mkdir(dicomsdl_img_dir)"
   ]
  },
  {
   "cell_type": "markdown",
   "id": "9ccac74e",
   "metadata": {
    "papermill": {
     "duration": 0.006114,
     "end_time": "2023-02-26T12:12:52.146125",
     "exception": false,
     "start_time": "2023-02-26T12:12:52.140011",
     "status": "completed"
    },
    "tags": []
   },
   "source": [
    "### A few helper functions"
   ]
  },
  {
   "cell_type": "code",
   "execution_count": 6,
   "id": "f547ecfc",
   "metadata": {
    "execution": {
     "iopub.execute_input": "2023-02-26T12:12:52.160967Z",
     "iopub.status.busy": "2023-02-26T12:12:52.160520Z",
     "iopub.status.idle": "2023-02-26T12:12:52.166126Z",
     "shell.execute_reply": "2023-02-26T12:12:52.164789Z"
    },
    "papermill": {
     "duration": 0.016232,
     "end_time": "2023-02-26T12:12:52.168712",
     "exception": false,
     "start_time": "2023-02-26T12:12:52.152480",
     "status": "completed"
    },
    "tags": []
   },
   "outputs": [],
   "source": [
    "def get_path(patient_id, image_id):\n",
    "    return os.path.join(train_image_dir, str(patient_id), str(image_id) + \".dcm\")"
   ]
  },
  {
   "cell_type": "code",
   "execution_count": 7,
   "id": "6c1c339f",
   "metadata": {
    "execution": {
     "iopub.execute_input": "2023-02-26T12:12:52.183912Z",
     "iopub.status.busy": "2023-02-26T12:12:52.183101Z",
     "iopub.status.idle": "2023-02-26T12:12:52.192140Z",
     "shell.execute_reply": "2023-02-26T12:12:52.190915Z"
    },
    "papermill": {
     "duration": 0.019449,
     "end_time": "2023-02-26T12:12:52.194671",
     "exception": false,
     "start_time": "2023-02-26T12:12:52.175222",
     "status": "completed"
    },
    "tags": []
   },
   "outputs": [],
   "source": [
    "# this is a helper function to find the area of the images to crop\n",
    "# arr is an array with elements of 0 and 1. This function is to find the longest block of continuous ones.\n",
    "def longest_block(arr):\n",
    "    prev_pt = -1\n",
    "    curr_pt = 0\n",
    "    blocks = []\n",
    "    start = end = -1\n",
    "    while curr_pt < len(arr):\n",
    "        if arr[curr_pt] == 1:\n",
    "            if prev_pt != -1 and arr[prev_pt] == 1:\n",
    "                end = curr_pt\n",
    "            else:\n",
    "                start = end = curr_pt\n",
    "        else:\n",
    "            if prev_pt != -1 and arr[prev_pt] == 1:\n",
    "                blocks.append((start, end+1))\n",
    "                \n",
    "        curr_pt += 1\n",
    "        prev_pt += 1\n",
    "    if arr[prev_pt] == 1:\n",
    "        blocks.append((start, end+1))\n",
    "    return sorted(blocks, key=lambda x: x[1]-x[0])[-1]"
   ]
  },
  {
   "cell_type": "code",
   "execution_count": 8,
   "id": "0f9e472e",
   "metadata": {
    "execution": {
     "iopub.execute_input": "2023-02-26T12:12:52.209631Z",
     "iopub.status.busy": "2023-02-26T12:12:52.209200Z",
     "iopub.status.idle": "2023-02-26T12:12:52.218182Z",
     "shell.execute_reply": "2023-02-26T12:12:52.217270Z"
    },
    "papermill": {
     "duration": 0.019143,
     "end_time": "2023-02-26T12:12:52.220444",
     "exception": false,
     "start_time": "2023-02-26T12:12:52.201301",
     "status": "completed"
    },
    "tags": []
   },
   "outputs": [],
   "source": [
    "def crop_image(img_arr, crop_threshold = 0.05, margin=0):\n",
    "    if not isinstance(img_arr, np.ndarray):\n",
    "        img_arr = np.array(img_arr)\n",
    "    col_sum = img_arr.sum(axis=0)\n",
    "    row_sum = img_arr.sum(axis=1)\n",
    "    col_valid = (col_sum > col_sum.max() * crop_threshold).astype(int)\n",
    "    row_valid = (row_sum > row_sum.max() * crop_threshold).astype(int)\n",
    "    col_lo, col_hi = longest_block(col_valid)\n",
    "    row_lo, row_hi = longest_block(row_valid)\n",
    "    h, w = img_arr.shape\n",
    "    col_lo = max(0, col_lo - margin)\n",
    "    col_hi = min(w, col_hi + margin)\n",
    "    row_lo = max(0, row_lo - margin)\n",
    "    row_hi = min(h, row_hi + margin)\n",
    "    cropped_img = np.zeros((row_hi - row_lo, col_hi - col_lo))\n",
    "    cropped_img[:,:] = img_arr[row_lo:row_hi, col_lo:col_hi]\n",
    "    return np.uint8(cropped_img)"
   ]
  },
  {
   "cell_type": "code",
   "execution_count": 9,
   "id": "913193c9",
   "metadata": {
    "execution": {
     "iopub.execute_input": "2023-02-26T12:12:52.237377Z",
     "iopub.status.busy": "2023-02-26T12:12:52.236678Z",
     "iopub.status.idle": "2023-02-26T12:12:52.243939Z",
     "shell.execute_reply": "2023-02-26T12:12:52.242949Z"
    },
    "papermill": {
     "duration": 0.019578,
     "end_time": "2023-02-26T12:12:52.246561",
     "exception": false,
     "start_time": "2023-02-26T12:12:52.226983",
     "status": "completed"
    },
    "tags": []
   },
   "outputs": [],
   "source": [
    "def apply_voi_lut(ori_img_arr, window_center, window_width, voilut_func='SIGMOID'):\n",
    "    output_range = 255\n",
    "    if not isinstance(ori_img_arr, np.ndarray):\n",
    "        ori_img_arr = np.array(ori_img_arr)\n",
    "    \n",
    "    if voilut_func == 'SIGMOID':\n",
    "        output_arr = output_range / (1 + np.exp(-4 * (ori_img_arr - window_center) / window_width))\n",
    "    elif voilut_func == 'LINEAR_EXACT':\n",
    "        output_arr = ((ori_img_arr - window_center)/window_width + 0.5) * 255\n",
    "    else:\n",
    "        output_arr = ((ori_img_arr - (window_center - 0.5))/(window_width - 1) + 0.5) * 255\n",
    "    \n",
    "    output_arr[output_arr < 0] = 0\n",
    "    output_arr[output_arr > 255] = 255\n",
    "    return output_arr"
   ]
  },
  {
   "cell_type": "code",
   "execution_count": 10,
   "id": "dbf634cc",
   "metadata": {
    "execution": {
     "iopub.execute_input": "2023-02-26T12:12:52.262107Z",
     "iopub.status.busy": "2023-02-26T12:12:52.261452Z",
     "iopub.status.idle": "2023-02-26T12:12:52.273476Z",
     "shell.execute_reply": "2023-02-26T12:12:52.272466Z"
    },
    "papermill": {
     "duration": 0.022994,
     "end_time": "2023-02-26T12:12:52.276101",
     "exception": false,
     "start_time": "2023-02-26T12:12:52.253107",
     "status": "completed"
    },
    "tags": []
   },
   "outputs": [],
   "source": [
    "def process_image(patient_id, image_id, engine=\"dicomsdl\", output_shape=(1024, 1024), output_root = \"/kaggle/working/\"):\n",
    "    file_path = get_path(patient_id, image_id)\n",
    "    if engine == 'pydicom':\n",
    "        dcm_img = pydicom.dcmread(file_path)\n",
    "        img_arr = dcm_img.pixel_array\n",
    "    elif engine == 'dicomsdl':\n",
    "        dcm_img = dicomsdl.open(file_path)\n",
    "        img_arr = dcm_img.pixelData()\n",
    "    else:\n",
    "        print(\"Dicom processing engine is wrong. Can only be pydicom or dicomsdl\")\n",
    "        return None\n",
    "    \n",
    "    try:\n",
    "        wc = np.float32(dcm_img.WindowCenter)\n",
    "        if isinstance(wc, np.ndarray):\n",
    "            wc = wc[0]\n",
    "    except:\n",
    "        wc = None\n",
    "    try:\n",
    "        ww = np.float32(dcm_img.WindowWidth)\n",
    "        if isinstance(ww, np.ndarray):\n",
    "            ww = ww[0]\n",
    "    except:\n",
    "        ww == None\n",
    "    \n",
    "    try:\n",
    "        voilut_func = dcm_img.VOILUTFunction\n",
    "    except:\n",
    "        voilut_func = 'LINEAR'\n",
    "    \n",
    "    if wc and ww and voilut_func == 'SIGMOID':\n",
    "        img_arr = apply_voi_lut(img_arr, wc, ww, 'SIGMOID')\n",
    "    \n",
    "    # rescale to 0-255\n",
    "    img_arr = (img_arr - img_arr.min()) / (img_arr.max() - img_arr.min()) * 255\n",
    "    \n",
    "    # inverse image\n",
    "    if dcm_img.PhotometricInterpretation == 'MONOCHROME1':\n",
    "        img_arr = 255 - img_arr\n",
    "    \n",
    "    # crop image\n",
    "    img_arr = crop_image(img_arr)\n",
    "    \n",
    "    # resize images to 1024x1024\n",
    "    img_arr = cv2.resize(img_arr, output_shape).astype('uint8')\n",
    "    \n",
    "    output_folder = os.path.join(output_root, str(patient_id))\n",
    "    if not os.path.exists(output_folder):\n",
    "        os.makedirs(output_folder)\n",
    "    new_img = Image.fromarray(img_arr)\n",
    "    new_img.save(os.path.join(output_folder, f\"{image_id}.jpg\"), mode='L')\n",
    "    return None\n",
    "    "
   ]
  },
  {
   "cell_type": "markdown",
   "id": "fb9bb395",
   "metadata": {
    "papermill": {
     "duration": 0.00624,
     "end_time": "2023-02-26T12:12:52.288875",
     "exception": false,
     "start_time": "2023-02-26T12:12:52.282635",
     "status": "completed"
    },
    "tags": []
   },
   "source": [
    "### Process dicom images"
   ]
  },
  {
   "cell_type": "code",
   "execution_count": 11,
   "id": "861e72bb",
   "metadata": {
    "execution": {
     "iopub.execute_input": "2023-02-26T12:12:52.304202Z",
     "iopub.status.busy": "2023-02-26T12:12:52.303521Z",
     "iopub.status.idle": "2023-02-26T12:12:52.310660Z",
     "shell.execute_reply": "2023-02-26T12:12:52.309362Z"
    },
    "papermill": {
     "duration": 0.018397,
     "end_time": "2023-02-26T12:12:52.313762",
     "exception": false,
     "start_time": "2023-02-26T12:12:52.295365",
     "status": "completed"
    },
    "tags": []
   },
   "outputs": [
    {
     "data": {
      "text/plain": [
       "(54706, 15)"
      ]
     },
     "execution_count": 11,
     "metadata": {},
     "output_type": "execute_result"
    }
   ],
   "source": [
    "train_df.shape"
   ]
  },
  {
   "cell_type": "code",
   "execution_count": 12,
   "id": "d726869c",
   "metadata": {
    "execution": {
     "iopub.execute_input": "2023-02-26T12:12:52.329893Z",
     "iopub.status.busy": "2023-02-26T12:12:52.328988Z",
     "iopub.status.idle": "2023-02-26T17:24:07.525081Z",
     "shell.execute_reply": "2023-02-26T17:24:07.518623Z"
    },
    "papermill": {
     "duration": 18675.222075,
     "end_time": "2023-02-26T17:24:07.542924",
     "exception": false,
     "start_time": "2023-02-26T12:12:52.320849",
     "status": "completed"
    },
    "tags": []
   },
   "outputs": [],
   "source": [
    "img_output_dir = \"/kaggle/working/train_images_jpg1024/\"\n",
    "for patient_id, image_id in train_df[['patient_id', 'image_id']].to_numpy()[34706:]:\n",
    "    process_image(patient_id, image_id, output_root=img_output_dir)"
   ]
  },
  {
   "cell_type": "code",
   "execution_count": 13,
   "id": "719ff097",
   "metadata": {
    "execution": {
     "iopub.execute_input": "2023-02-26T17:24:07.581118Z",
     "iopub.status.busy": "2023-02-26T17:24:07.580314Z",
     "iopub.status.idle": "2023-02-26T17:24:07.595074Z",
     "shell.execute_reply": "2023-02-26T17:24:07.593841Z"
    },
    "papermill": {
     "duration": 0.033949,
     "end_time": "2023-02-26T17:24:07.598624",
     "exception": false,
     "start_time": "2023-02-26T17:24:07.564675",
     "status": "completed"
    },
    "tags": []
   },
   "outputs": [],
   "source": [
    "import shutil"
   ]
  },
  {
   "cell_type": "code",
   "execution_count": 14,
   "id": "d4fe2af2",
   "metadata": {
    "execution": {
     "iopub.execute_input": "2023-02-26T17:24:07.615089Z",
     "iopub.status.busy": "2023-02-26T17:24:07.614695Z",
     "iopub.status.idle": "2023-02-26T17:26:50.964267Z",
     "shell.execute_reply": "2023-02-26T17:26:50.963088Z"
    },
    "papermill": {
     "duration": 163.372383,
     "end_time": "2023-02-26T17:26:50.978402",
     "exception": false,
     "start_time": "2023-02-26T17:24:07.606019",
     "status": "completed"
    },
    "tags": []
   },
   "outputs": [
    {
     "data": {
      "text/plain": [
       "'/kaggle/working/SDLjpg1024-part2.zip'"
      ]
     },
     "execution_count": 14,
     "metadata": {},
     "output_type": "execute_result"
    }
   ],
   "source": [
    "shutil.make_archive(\"/kaggle/working/SDLjpg1024-part2\", \"zip\", img_output_dir)"
   ]
  },
  {
   "cell_type": "code",
   "execution_count": null,
   "id": "bd9b6b39",
   "metadata": {
    "papermill": {
     "duration": 0.006491,
     "end_time": "2023-02-26T17:26:50.991814",
     "exception": false,
     "start_time": "2023-02-26T17:26:50.985323",
     "status": "completed"
    },
    "tags": []
   },
   "outputs": [],
   "source": []
  }
 ],
 "metadata": {
  "kernelspec": {
   "display_name": "Python 3",
   "language": "python",
   "name": "python3"
  },
  "language_info": {
   "codemirror_mode": {
    "name": "ipython",
    "version": 3
   },
   "file_extension": ".py",
   "mimetype": "text/x-python",
   "name": "python",
   "nbconvert_exporter": "python",
   "pygments_lexer": "ipython3",
   "version": "3.7.12"
  },
  "papermill": {
   "default_parameters": {},
   "duration": 18925.453202,
   "end_time": "2023-02-26T17:26:52.533126",
   "environment_variables": {},
   "exception": null,
   "input_path": "__notebook__.ipynb",
   "output_path": "__notebook__.ipynb",
   "parameters": {},
   "start_time": "2023-02-26T12:11:27.079924",
   "version": "2.4.0"
  }
 },
 "nbformat": 4,
 "nbformat_minor": 5
}
