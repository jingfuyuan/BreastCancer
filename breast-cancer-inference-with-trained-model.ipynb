{
 "cells": [
  {
   "cell_type": "code",
   "execution_count": 1,
   "id": "94bbb303",
   "metadata": {
    "_cell_guid": "b1076dfc-b9ad-4769-8c92-a6c4dae69d19",
    "_uuid": "8f2839f25d086af736a60e9eeb907d3b93b6e0e5",
    "execution": {
     "iopub.execute_input": "2023-02-27T13:44:47.487833Z",
     "iopub.status.busy": "2023-02-27T13:44:47.486743Z",
     "iopub.status.idle": "2023-02-27T13:44:47.498812Z",
     "shell.execute_reply": "2023-02-27T13:44:47.497727Z"
    },
    "papermill": {
     "duration": 0.022915,
     "end_time": "2023-02-27T13:44:47.501034",
     "exception": false,
     "start_time": "2023-02-27T13:44:47.478119",
     "status": "completed"
    },
    "tags": []
   },
   "outputs": [],
   "source": [
    "# This Python 3 environment comes with many helpful analytics libraries installed\n",
    "# It is defined by the kaggle/python Docker image: https://github.com/kaggle/docker-python\n",
    "# For example, here's several helpful packages to load\n",
    "\n",
    "import numpy as np # linear algebra\n",
    "import pandas as pd # data processing, CSV file I/O (e.g. pd.read_csv)\n",
    "\n",
    "# Input data files are available in the read-only \"../input/\" directory\n",
    "# For example, running this (by clicking run or pressing Shift+Enter) will list all files under the input directory\n",
    "\n",
    "import os\n",
    "# for dirname, _, filenames in os.walk('/kaggle/input'):\n",
    "#     for filename in filenames:\n",
    "#         print(os.path.join(dirname, filename))\n",
    "\n",
    "# You can write up to 20GB to the current directory (/kaggle/working/) that gets preserved as output when you create a version using \"Save & Run All\" \n",
    "# You can also write temporary files to /kaggle/temp/, but they won't be saved outside of the current session"
   ]
  },
  {
   "cell_type": "code",
   "execution_count": 2,
   "id": "cf8a3f2f",
   "metadata": {
    "execution": {
     "iopub.execute_input": "2023-02-27T13:44:47.514264Z",
     "iopub.status.busy": "2023-02-27T13:44:47.513987Z",
     "iopub.status.idle": "2023-02-27T13:44:54.847530Z",
     "shell.execute_reply": "2023-02-27T13:44:54.846420Z"
    },
    "papermill": {
     "duration": 7.342987,
     "end_time": "2023-02-27T13:44:54.850389",
     "exception": false,
     "start_time": "2023-02-27T13:44:47.507402",
     "status": "completed"
    },
    "tags": []
   },
   "outputs": [],
   "source": [
    "import tensorflow as tf\n",
    "from tensorflow.keras import layers, losses, optimizers\n",
    "import tensorflow_addons as tfa"
   ]
  },
  {
   "cell_type": "markdown",
   "id": "2bd6ec5b",
   "metadata": {
    "papermill": {
     "duration": 0.005636,
     "end_time": "2023-02-27T13:44:54.862043",
     "exception": false,
     "start_time": "2023-02-27T13:44:54.856407",
     "status": "completed"
    },
    "tags": []
   },
   "source": [
    "### Load trained model"
   ]
  },
  {
   "cell_type": "code",
   "execution_count": 3,
   "id": "18bb2413",
   "metadata": {
    "execution": {
     "iopub.execute_input": "2023-02-27T13:44:54.875107Z",
     "iopub.status.busy": "2023-02-27T13:44:54.874473Z",
     "iopub.status.idle": "2023-02-27T13:44:57.472564Z",
     "shell.execute_reply": "2023-02-27T13:44:57.471511Z"
    },
    "papermill": {
     "duration": 2.607458,
     "end_time": "2023-02-27T13:44:57.475179",
     "exception": false,
     "start_time": "2023-02-27T13:44:54.867721",
     "status": "completed"
    },
    "tags": []
   },
   "outputs": [],
   "source": [
    "img_size = 1024\n",
    "img_augmentation = tf.keras.models.Sequential([\n",
    "    layers.RandomRotation(factor=0.15),\n",
    "    layers.RandomFlip(),\n",
    "    layers.RandomZoom(0.1)\n",
    "],\n",
    "name='img_augmentation')\n",
    "\n",
    "\n",
    "def build_model():\n",
    "    pretrained_model = tf.keras.applications.EfficientNetB0(include_top=False, weights=None)\n",
    "    pretrained_model.trainable = True\n",
    "\n",
    "    inputs = layers.Input(shape=(img_size, img_size, 1))\n",
    "    x = img_augmentation(inputs)\n",
    "    x = layers.concatenate([x, x, x])\n",
    "    x = pretrained_model(x)\n",
    "    x = layers.GlobalAveragePooling2D()(x)\n",
    "    x = layers.Dropout(0.4)(x)\n",
    "    outputs = layers.Dense(1, activation='sigmoid')(x)\n",
    "    model = tf.keras.Model(inputs, outputs)\n",
    "\n",
    "    return model"
   ]
  },
  {
   "cell_type": "code",
   "execution_count": 4,
   "id": "8eaa4030",
   "metadata": {
    "execution": {
     "iopub.execute_input": "2023-02-27T13:44:57.489754Z",
     "iopub.status.busy": "2023-02-27T13:44:57.488205Z",
     "iopub.status.idle": "2023-02-27T13:44:57.493865Z",
     "shell.execute_reply": "2023-02-27T13:44:57.492961Z"
    },
    "papermill": {
     "duration": 0.015082,
     "end_time": "2023-02-27T13:44:57.496310",
     "exception": false,
     "start_time": "2023-02-27T13:44:57.481228",
     "status": "completed"
    },
    "tags": []
   },
   "outputs": [],
   "source": [
    "cp_dir = \"/kaggle/input/model-weights/\""
   ]
  },
  {
   "cell_type": "code",
   "execution_count": 5,
   "id": "57def3fe",
   "metadata": {
    "execution": {
     "iopub.execute_input": "2023-02-27T13:44:57.509013Z",
     "iopub.status.busy": "2023-02-27T13:44:57.508696Z",
     "iopub.status.idle": "2023-02-27T13:45:04.715126Z",
     "shell.execute_reply": "2023-02-27T13:45:04.713854Z"
    },
    "papermill": {
     "duration": 7.21514,
     "end_time": "2023-02-27T13:45:04.717285",
     "exception": false,
     "start_time": "2023-02-27T13:44:57.502145",
     "status": "completed"
    },
    "tags": []
   },
   "outputs": [
    {
     "name": "stdout",
     "output_type": "stream",
     "text": [
      "Not connected to a TPU runtime. Using CPU/GPU strategy\n",
      "Model: \"model\"\n",
      "__________________________________________________________________________________________________\n",
      " Layer (type)                   Output Shape         Param #     Connected to                     \n",
      "==================================================================================================\n",
      " input_2 (InputLayer)           [(None, 1024, 1024,  0           []                               \n",
      "                                 1)]                                                              \n",
      "                                                                                                  \n",
      " img_augmentation (Sequential)  (None, 1024, 1024,   0           ['input_2[0][0]']                \n",
      "                                1)                                                                \n",
      "                                                                                                  \n",
      " concatenate (Concatenate)      (None, 1024, 1024,   0           ['img_augmentation[0][0]',       \n",
      "                                3)                                'img_augmentation[0][0]',       \n",
      "                                                                  'img_augmentation[0][0]']       \n",
      "                                                                                                  \n",
      " efficientnetb0 (Functional)    (None, None, None,   4049571     ['concatenate[0][0]']            \n",
      "                                1280)                                                             \n",
      "                                                                                                  \n",
      " global_average_pooling2d (Glob  (None, 1280)        0           ['efficientnetb0[0][0]']         \n",
      " alAveragePooling2D)                                                                              \n",
      "                                                                                                  \n",
      " dropout (Dropout)              (None, 1280)         0           ['global_average_pooling2d[0][0]'\n",
      "                                                                 ]                                \n",
      "                                                                                                  \n",
      " dense (Dense)                  (None, 1)            1281        ['dropout[0][0]']                \n",
      "                                                                                                  \n",
      "==================================================================================================\n",
      "Total params: 4,050,852\n",
      "Trainable params: 4,008,829\n",
      "Non-trainable params: 42,023\n",
      "__________________________________________________________________________________________________\n"
     ]
    }
   ],
   "source": [
    "try:\n",
    "    tpu = tf.distribute.cluster_resolver.TPUClusterResolver.connect()\n",
    "    print(\"Device:\", tpu.master())\n",
    "    strategy = tf.distribute.TPUStrategy(tpu)\n",
    "except ValueError:\n",
    "    print(\"Not connected to a TPU runtime. Using CPU/GPU strategy\")\n",
    "    strategy = tf.distribute.MirroredStrategy()\n",
    "\n",
    "# Then build your model within the strategy context:\n",
    "tf.keras.backend.clear_session()\n",
    "with strategy.scope():\n",
    "    model = tf.keras.models.load_model('/kaggle/input/model-weights/trained_model_v2.h5')\n",
    "#     model = build_model()\n",
    "#     model.load_weights(\"/kaggle/input/model-weights/SavedWeights_ep0004.h5\")\n",
    "#     model.compile(\n",
    "#         loss = 'binary_crossentropy',\n",
    "#         optimizer = optimizers.Adam(),\n",
    "#         metrics = [\n",
    "#             tf.keras.metrics.Recall(),\n",
    "#             tf.keras.metrics.Precision(),\n",
    "#             tfa.metrics.F1Score(num_classes=1, threshold=0.5, name='F1')\n",
    "#         ]\n",
    "#     )\n",
    "    \n",
    "model.summary()"
   ]
  },
  {
   "cell_type": "code",
   "execution_count": 6,
   "id": "59a58059",
   "metadata": {
    "execution": {
     "iopub.execute_input": "2023-02-27T13:45:04.734404Z",
     "iopub.status.busy": "2023-02-27T13:45:04.734010Z",
     "iopub.status.idle": "2023-02-27T13:45:04.739262Z",
     "shell.execute_reply": "2023-02-27T13:45:04.737835Z"
    },
    "papermill": {
     "duration": 0.016528,
     "end_time": "2023-02-27T13:45:04.741586",
     "exception": false,
     "start_time": "2023-02-27T13:45:04.725058",
     "status": "completed"
    },
    "tags": []
   },
   "outputs": [],
   "source": [
    "# tf.keras.backend.clear_session()\n",
    "# model = build_model()\n",
    "# model.load_weights(cp_dir + \"cp-0010.ckpt\")"
   ]
  },
  {
   "cell_type": "code",
   "execution_count": 7,
   "id": "b52d49df",
   "metadata": {
    "execution": {
     "iopub.execute_input": "2023-02-27T13:45:04.757496Z",
     "iopub.status.busy": "2023-02-27T13:45:04.757200Z",
     "iopub.status.idle": "2023-02-27T13:45:04.762559Z",
     "shell.execute_reply": "2023-02-27T13:45:04.761598Z"
    },
    "papermill": {
     "duration": 0.015936,
     "end_time": "2023-02-27T13:45:04.764809",
     "exception": false,
     "start_time": "2023-02-27T13:45:04.748873",
     "status": "completed"
    },
    "tags": []
   },
   "outputs": [],
   "source": [
    "# thresholds = 0.5\n",
    "# model.compile(\n",
    "#     loss='binary_crossentropy',\n",
    "#     optimizer=optimizers.Adam(),\n",
    "#     metrics=[tf.keras.metrics.Recall(thresholds=thresholds), \n",
    "#              tf.keras.metrics.Precision(thresholds=thresholds), \n",
    "#              tfa.metrics.F1Score(num_classes=1, threshold=thresholds, name='F1'),\n",
    "#             #  pFBeta(beta=1, name='pF1')\n",
    "#              ]\n",
    "# )"
   ]
  },
  {
   "cell_type": "markdown",
   "id": "d6d5d63c",
   "metadata": {
    "papermill": {
     "duration": 0.007098,
     "end_time": "2023-02-27T13:45:04.779516",
     "exception": false,
     "start_time": "2023-02-27T13:45:04.772418",
     "status": "completed"
    },
    "tags": []
   },
   "source": [
    "### Prepare test dataset"
   ]
  },
  {
   "cell_type": "code",
   "execution_count": 8,
   "id": "37253c83",
   "metadata": {
    "execution": {
     "iopub.execute_input": "2023-02-27T13:45:04.796033Z",
     "iopub.status.busy": "2023-02-27T13:45:04.795699Z",
     "iopub.status.idle": "2023-02-27T13:46:04.881941Z",
     "shell.execute_reply": "2023-02-27T13:46:04.880688Z"
    },
    "papermill": {
     "duration": 60.097912,
     "end_time": "2023-02-27T13:46:04.884605",
     "exception": false,
     "start_time": "2023-02-27T13:45:04.786693",
     "status": "completed"
    },
    "tags": []
   },
   "outputs": [
    {
     "name": "stdout",
     "output_type": "stream",
     "text": [
      "Processing /kaggle/input/dicom-packages/dicomsdl-0.109.1-cp37-cp37m-manylinux_2_12_x86_64.manylinux2010_x86_64.whl\r\n",
      "Installing collected packages: dicomsdl\r\n",
      "Successfully installed dicomsdl-0.109.1\r\n",
      "\u001b[33mWARNING: Running pip as the 'root' user can result in broken permissions and conflicting behaviour with the system package manager. It is recommended to use a virtual environment instead: https://pip.pypa.io/warnings/venv\u001b[0m\u001b[33m\r\n",
      "\u001b[0mProcessing /kaggle/input/dicom-packages/python_gdcm-3.0.21-cp37-cp37m-manylinux_2_17_x86_64.manylinux2014_x86_64.whl\r\n",
      "Installing collected packages: python-gdcm\r\n",
      "Successfully installed python-gdcm-3.0.21\r\n",
      "\u001b[33mWARNING: Running pip as the 'root' user can result in broken permissions and conflicting behaviour with the system package manager. It is recommended to use a virtual environment instead: https://pip.pypa.io/warnings/venv\u001b[0m\u001b[33m\r\n",
      "\u001b[0mProcessing /kaggle/input/dicom-packages/pylibjpeg-1.4.0-py3-none-any.whl\r\n",
      "Requirement already satisfied: numpy in /opt/conda/lib/python3.7/site-packages (from pylibjpeg==1.4.0) (1.21.6)\r\n",
      "Installing collected packages: pylibjpeg\r\n",
      "Successfully installed pylibjpeg-1.4.0\r\n",
      "\u001b[33mWARNING: Running pip as the 'root' user can result in broken permissions and conflicting behaviour with the system package manager. It is recommended to use a virtual environment instead: https://pip.pypa.io/warnings/venv\u001b[0m\u001b[33m\r\n",
      "\u001b[0mProcessing /kaggle/input/dicom-packages/pylibjpeg_libjpeg-1.3.3-cp37-cp37m-manylinux_2_17_x86_64.manylinux2014_x86_64.whl\r\n",
      "Requirement already satisfied: numpy>=1.20 in /opt/conda/lib/python3.7/site-packages (from pylibjpeg-libjpeg==1.3.3) (1.21.6)\r\n",
      "Installing collected packages: pylibjpeg-libjpeg\r\n",
      "Successfully installed pylibjpeg-libjpeg-1.3.3\r\n",
      "\u001b[33mWARNING: Running pip as the 'root' user can result in broken permissions and conflicting behaviour with the system package manager. It is recommended to use a virtual environment instead: https://pip.pypa.io/warnings/venv\u001b[0m\u001b[33m\r\n",
      "\u001b[0mProcessing /kaggle/input/dicom-packages/pylibjpeg_openjpeg-1.3.1-cp37-cp37m-manylinux_2_17_x86_64.manylinux2014_x86_64.whl\r\n",
      "Requirement already satisfied: numpy>=1.20 in /opt/conda/lib/python3.7/site-packages (from pylibjpeg-openjpeg==1.3.1) (1.21.6)\r\n",
      "Installing collected packages: pylibjpeg-openjpeg\r\n",
      "Successfully installed pylibjpeg-openjpeg-1.3.1\r\n",
      "\u001b[33mWARNING: Running pip as the 'root' user can result in broken permissions and conflicting behaviour with the system package manager. It is recommended to use a virtual environment instead: https://pip.pypa.io/warnings/venv\u001b[0m\u001b[33m\r\n",
      "\u001b[0mProcessing /kaggle/input/dicom-packages/pylibjpeg_rle-1.3.0-cp37-cp37m-manylinux_2_17_x86_64.manylinux2014_x86_64.whl\r\n",
      "Requirement already satisfied: numpy>=1.20 in /opt/conda/lib/python3.7/site-packages (from pylibjpeg-rle==1.3.0) (1.21.6)\r\n",
      "Installing collected packages: pylibjpeg-rle\r\n",
      "Successfully installed pylibjpeg-rle-1.3.0\r\n",
      "\u001b[33mWARNING: Running pip as the 'root' user can result in broken permissions and conflicting behaviour with the system package manager. It is recommended to use a virtual environment instead: https://pip.pypa.io/warnings/venv\u001b[0m\u001b[33m\r\n",
      "\u001b[0m"
     ]
    }
   ],
   "source": [
    "!pip install --no-index /kaggle/input/dicom-packages/dicomsdl-0.109.1-cp37-cp37m-manylinux_2_12_x86_64.manylinux2010_x86_64.whl\n",
    "!pip install --no-index /kaggle/input/dicom-packages/python_gdcm-3.0.21-cp37-cp37m-manylinux_2_17_x86_64.manylinux2014_x86_64.whl\n",
    "!pip install --no-index /kaggle/input/dicom-packages/pylibjpeg-1.4.0-py3-none-any.whl\n",
    "!pip install --no-index /kaggle/input/dicom-packages/pylibjpeg_libjpeg-1.3.3-cp37-cp37m-manylinux_2_17_x86_64.manylinux2014_x86_64.whl\n",
    "!pip install --no-index /kaggle/input/dicom-packages/pylibjpeg_openjpeg-1.3.1-cp37-cp37m-manylinux_2_17_x86_64.manylinux2014_x86_64.whl\n",
    "!pip install --no-index /kaggle/input/dicom-packages/pylibjpeg_rle-1.3.0-cp37-cp37m-manylinux_2_17_x86_64.manylinux2014_x86_64.whl"
   ]
  },
  {
   "cell_type": "code",
   "execution_count": 9,
   "id": "b6d06651",
   "metadata": {
    "execution": {
     "iopub.execute_input": "2023-02-27T13:46:04.903973Z",
     "iopub.status.busy": "2023-02-27T13:46:04.903592Z",
     "iopub.status.idle": "2023-02-27T13:46:05.075585Z",
     "shell.execute_reply": "2023-02-27T13:46:05.074556Z"
    },
    "papermill": {
     "duration": 0.1848,
     "end_time": "2023-02-27T13:46:05.078442",
     "exception": false,
     "start_time": "2023-02-27T13:46:04.893642",
     "status": "completed"
    },
    "tags": []
   },
   "outputs": [],
   "source": [
    "import dicomsdl\n",
    "import cv2"
   ]
  },
  {
   "cell_type": "code",
   "execution_count": 10,
   "id": "bfcd875f",
   "metadata": {
    "execution": {
     "iopub.execute_input": "2023-02-27T13:46:05.097313Z",
     "iopub.status.busy": "2023-02-27T13:46:05.096356Z",
     "iopub.status.idle": "2023-02-27T13:46:05.247764Z",
     "shell.execute_reply": "2023-02-27T13:46:05.246761Z"
    },
    "papermill": {
     "duration": 0.163215,
     "end_time": "2023-02-27T13:46:05.250242",
     "exception": false,
     "start_time": "2023-02-27T13:46:05.087027",
     "status": "completed"
    },
    "tags": []
   },
   "outputs": [],
   "source": [
    "train_df = pd.read_csv(\"/kaggle/input/rsna-breast-cancer-detection/train.csv\").sample(frac=1)\n",
    "test_df = pd.read_csv(\"/kaggle/input/rsna-breast-cancer-detection/test.csv\")"
   ]
  },
  {
   "cell_type": "code",
   "execution_count": 11,
   "id": "1579e0b3",
   "metadata": {
    "execution": {
     "iopub.execute_input": "2023-02-27T13:46:05.269041Z",
     "iopub.status.busy": "2023-02-27T13:46:05.268707Z",
     "iopub.status.idle": "2023-02-27T13:46:06.108975Z",
     "shell.execute_reply": "2023-02-27T13:46:06.107936Z"
    },
    "papermill": {
     "duration": 0.852589,
     "end_time": "2023-02-27T13:46:06.111674",
     "exception": false,
     "start_time": "2023-02-27T13:46:05.259085",
     "status": "completed"
    },
    "tags": []
   },
   "outputs": [],
   "source": [
    "train_image_dir = \"/kaggle/input/rsna-breast-cancer-detection/train_images/\"\n",
    "test_image_dir = \"/kaggle/input/rsna-breast-cancer-detection/test_images/\"\n",
    "train_df['file_path'] = train_df.apply(lambda r : os.path.join(train_image_dir, str(r['patient_id']), str(r['image_id']) + \".dcm\"), axis=1)\n",
    "test_df['file_path'] = test_df.apply(lambda r : os.path.join(test_image_dir, str(r['patient_id']), str(r['image_id']) + \".dcm\"), axis=1)"
   ]
  },
  {
   "cell_type": "code",
   "execution_count": 12,
   "id": "5506b931",
   "metadata": {
    "execution": {
     "iopub.execute_input": "2023-02-27T13:46:06.131861Z",
     "iopub.status.busy": "2023-02-27T13:46:06.131522Z",
     "iopub.status.idle": "2023-02-27T13:46:06.151639Z",
     "shell.execute_reply": "2023-02-27T13:46:06.150532Z"
    },
    "papermill": {
     "duration": 0.032124,
     "end_time": "2023-02-27T13:46:06.153893",
     "exception": false,
     "start_time": "2023-02-27T13:46:06.121769",
     "status": "completed"
    },
    "tags": []
   },
   "outputs": [],
   "source": [
    "def get_path(patient_id, image_id):\n",
    "    return os.path.join(train_image_dir, str(patient_id), str(image_id) + \".dcm\")\n",
    "\n",
    "# this is a helper function to find the area of the images to crop\n",
    "# arr is an array with elements of 0 and 1. This function is to find the longest block of continuous ones.\n",
    "def longest_block(arr):\n",
    "    prev_pt = -1\n",
    "    curr_pt = 0\n",
    "    blocks = []\n",
    "    start = end = -1\n",
    "    while curr_pt < len(arr):\n",
    "        if arr[curr_pt] == 1:\n",
    "            if prev_pt != -1 and arr[prev_pt] == 1:\n",
    "                end = curr_pt\n",
    "            else:\n",
    "                start = end = curr_pt\n",
    "        else:\n",
    "            if prev_pt != -1 and arr[prev_pt] == 1:\n",
    "                blocks.append((start, end+1))\n",
    "                \n",
    "        curr_pt += 1\n",
    "        prev_pt += 1\n",
    "    if arr[prev_pt] == 1:\n",
    "        blocks.append((start, end+1))\n",
    "    return sorted(blocks, key=lambda x: x[1]-x[0])[-1]\n",
    "\n",
    "def crop_image(img_arr, crop_threshold = 0.05, margin=0):\n",
    "    if not isinstance(img_arr, np.ndarray):\n",
    "        img_arr = np.array(img_arr)\n",
    "    col_sum = img_arr.sum(axis=0)\n",
    "    row_sum = img_arr.sum(axis=1)\n",
    "    col_valid = (col_sum > col_sum.max() * crop_threshold).astype(int)\n",
    "    row_valid = (row_sum > row_sum.max() * crop_threshold).astype(int)\n",
    "    col_lo, col_hi = longest_block(col_valid)\n",
    "    row_lo, row_hi = longest_block(row_valid)\n",
    "    h, w = img_arr.shape\n",
    "    col_lo = max(0, col_lo - margin)\n",
    "    col_hi = min(w, col_hi + margin)\n",
    "    row_lo = max(0, row_lo - margin)\n",
    "    row_hi = min(h, row_hi + margin)\n",
    "    cropped_img = np.zeros((row_hi - row_lo, col_hi - col_lo))\n",
    "    cropped_img[:,:] = img_arr[row_lo:row_hi, col_lo:col_hi]\n",
    "    return np.uint8(cropped_img)\n",
    "\n",
    "def apply_voi_lut(ori_img_arr, window_center, window_width, voilut_func='SIGMOID'):\n",
    "    output_range = 255\n",
    "    if not isinstance(ori_img_arr, np.ndarray):\n",
    "        ori_img_arr = np.array(ori_img_arr)\n",
    "    \n",
    "    if voilut_func == 'SIGMOID':\n",
    "        output_arr = output_range / (1 + np.exp(-4 * (ori_img_arr - window_center) / window_width))\n",
    "    elif voilut_func == 'LINEAR_EXACT':\n",
    "        output_arr = ((ori_img_arr - window_center)/window_width + 0.5) * 255\n",
    "    else:\n",
    "        output_arr = ((ori_img_arr - (window_center - 0.5))/(window_width - 1) + 0.5) * 255\n",
    "    \n",
    "    output_arr[output_arr < 0] = 0\n",
    "    output_arr[output_arr > 255] = 255\n",
    "    return output_arr\n",
    "\n",
    "def process_image(file_path, img_size=512):\n",
    "    file_path = file_path.decode('utf-8')\n",
    "    dcm_img = dicomsdl.open(file_path)\n",
    "    img_arr = dcm_img.pixelData()\n",
    "    \n",
    "    try:\n",
    "        wc = np.float32(dcm_img.WindowCenter)\n",
    "        if isinstance(wc, np.ndarray):\n",
    "            wc = wc[0]\n",
    "    except:\n",
    "        wc = None\n",
    "        \n",
    "    try:\n",
    "        ww = np.float32(dcm_img.WindowWidth)\n",
    "        if isinstance(ww, np.ndarray):\n",
    "            ww = ww[0]\n",
    "    except:\n",
    "        ww == None\n",
    "    \n",
    "    try:\n",
    "        voilut_func = dcm_img.VOILUTFunction\n",
    "    except:\n",
    "        voilut_func = 'LINEAR'\n",
    "    \n",
    "    if wc and ww and voilut_func == 'SIGMOID':\n",
    "        img_arr = apply_voi_lut(img_arr, wc, ww, 'SIGMOID')\n",
    "    \n",
    "    # rescale to 0-255\n",
    "    img_arr = (img_arr - img_arr.min()) / (img_arr.max() - img_arr.min()) * 255\n",
    "    \n",
    "    # inverse image\n",
    "    if dcm_img.PhotometricInterpretation == 'MONOCHROME1':\n",
    "        img_arr = 255 - img_arr\n",
    "    \n",
    "    # crop image\n",
    "    img_arr = crop_image(img_arr)\n",
    "    \n",
    "    # resize images\n",
    "    img_arr = cv2.resize(img_arr, (img_size, img_size))\n",
    "    return tf.cast(tf.expand_dims(img_arr, axis=-1), tf.float32)\n",
    "    "
   ]
  },
  {
   "cell_type": "markdown",
   "id": "caa2e81a",
   "metadata": {
    "papermill": {
     "duration": 0.008319,
     "end_time": "2023-02-27T13:46:06.170899",
     "exception": false,
     "start_time": "2023-02-27T13:46:06.162580",
     "status": "completed"
    },
    "tags": []
   },
   "source": [
    "The model was already trained in another notebook. A small train dataset is only used to check the model."
   ]
  },
  {
   "cell_type": "code",
   "execution_count": 13,
   "id": "a2d5aef2",
   "metadata": {
    "execution": {
     "iopub.execute_input": "2023-02-27T13:46:06.190189Z",
     "iopub.status.busy": "2023-02-27T13:46:06.189067Z",
     "iopub.status.idle": "2023-02-27T13:46:06.203340Z",
     "shell.execute_reply": "2023-02-27T13:46:06.202370Z"
    },
    "papermill": {
     "duration": 0.026153,
     "end_time": "2023-02-27T13:46:06.205646",
     "exception": false,
     "start_time": "2023-02-27T13:46:06.179493",
     "status": "completed"
    },
    "tags": []
   },
   "outputs": [],
   "source": [
    "train_ds = tf.data.Dataset.from_tensor_slices((train_df[\"file_path\"].to_numpy()[:2000], train_df['cancer'].to_numpy()[:2000]))\n",
    "test_ds = tf.data.Dataset.from_tensor_slices(test_df['file_path'].to_numpy())"
   ]
  },
  {
   "cell_type": "code",
   "execution_count": 14,
   "id": "8a437ecb",
   "metadata": {
    "execution": {
     "iopub.execute_input": "2023-02-27T13:46:06.225496Z",
     "iopub.status.busy": "2023-02-27T13:46:06.225177Z",
     "iopub.status.idle": "2023-02-27T13:46:06.229511Z",
     "shell.execute_reply": "2023-02-27T13:46:06.228445Z"
    },
    "papermill": {
     "duration": 0.017501,
     "end_time": "2023-02-27T13:46:06.231622",
     "exception": false,
     "start_time": "2023-02-27T13:46:06.214121",
     "status": "completed"
    },
    "tags": []
   },
   "outputs": [],
   "source": [
    "# for d in test_ds.take(5):\n",
    "#     print(d.numpy().decode('utf-8'))"
   ]
  },
  {
   "cell_type": "code",
   "execution_count": 15,
   "id": "2084ef68",
   "metadata": {
    "execution": {
     "iopub.execute_input": "2023-02-27T13:46:06.249766Z",
     "iopub.status.busy": "2023-02-27T13:46:06.249457Z",
     "iopub.status.idle": "2023-02-27T13:46:06.304926Z",
     "shell.execute_reply": "2023-02-27T13:46:06.303966Z"
    },
    "papermill": {
     "duration": 0.067157,
     "end_time": "2023-02-27T13:46:06.307332",
     "exception": false,
     "start_time": "2023-02-27T13:46:06.240175",
     "status": "completed"
    },
    "tags": []
   },
   "outputs": [],
   "source": [
    "test_ds = test_ds.map(lambda x:tf.numpy_function(process_image, [x], tf.float32))\n",
    "\n",
    "train_ds = train_ds.map(lambda x,y:(tf.numpy_function(process_image, [x], tf.float32), y))"
   ]
  },
  {
   "cell_type": "code",
   "execution_count": 16,
   "id": "de243c02",
   "metadata": {
    "execution": {
     "iopub.execute_input": "2023-02-27T13:46:06.325583Z",
     "iopub.status.busy": "2023-02-27T13:46:06.325307Z",
     "iopub.status.idle": "2023-02-27T13:46:06.336667Z",
     "shell.execute_reply": "2023-02-27T13:46:06.335798Z"
    },
    "papermill": {
     "duration": 0.023219,
     "end_time": "2023-02-27T13:46:06.338972",
     "exception": false,
     "start_time": "2023-02-27T13:46:06.315753",
     "status": "completed"
    },
    "tags": []
   },
   "outputs": [],
   "source": [
    "batch_size = 8\n",
    "train_ds = train_ds.batch(batch_size).prefetch(batch_size)\n",
    "test_ds = test_ds.batch(batch_size).prefetch(batch_size)"
   ]
  },
  {
   "cell_type": "markdown",
   "id": "48826dd2",
   "metadata": {
    "papermill": {
     "duration": 0.007965,
     "end_time": "2023-02-27T13:46:06.355137",
     "exception": false,
     "start_time": "2023-02-27T13:46:06.347172",
     "status": "completed"
    },
    "tags": []
   },
   "source": [
    "### Make inference"
   ]
  },
  {
   "cell_type": "markdown",
   "id": "ced19e3e",
   "metadata": {
    "papermill": {
     "duration": 0.007986,
     "end_time": "2023-02-27T13:46:06.371537",
     "exception": false,
     "start_time": "2023-02-27T13:46:06.363551",
     "status": "completed"
    },
    "tags": []
   },
   "source": [
    "First, evaluate the model with train dataset."
   ]
  },
  {
   "cell_type": "code",
   "execution_count": 17,
   "id": "14e434bc",
   "metadata": {
    "execution": {
     "iopub.execute_input": "2023-02-27T13:46:06.389616Z",
     "iopub.status.busy": "2023-02-27T13:46:06.389056Z",
     "iopub.status.idle": "2023-02-27T13:46:06.401383Z",
     "shell.execute_reply": "2023-02-27T13:46:06.400379Z"
    },
    "papermill": {
     "duration": 0.023448,
     "end_time": "2023-02-27T13:46:06.403426",
     "exception": false,
     "start_time": "2023-02-27T13:46:06.379978",
     "status": "completed"
    },
    "tags": []
   },
   "outputs": [
    {
     "data": {
      "text/plain": [
       "0    1943\n",
       "1      57\n",
       "Name: cancer, dtype: int64"
      ]
     },
     "execution_count": 17,
     "metadata": {},
     "output_type": "execute_result"
    }
   ],
   "source": [
    "train_df.iloc[:2000, train_df.columns.get_loc('cancer')].value_counts()"
   ]
  },
  {
   "cell_type": "code",
   "execution_count": 18,
   "id": "f21329b1",
   "metadata": {
    "execution": {
     "iopub.execute_input": "2023-02-27T13:46:06.421447Z",
     "iopub.status.busy": "2023-02-27T13:46:06.421163Z",
     "iopub.status.idle": "2023-02-27T13:46:06.425416Z",
     "shell.execute_reply": "2023-02-27T13:46:06.424359Z"
    },
    "papermill": {
     "duration": 0.015787,
     "end_time": "2023-02-27T13:46:06.427487",
     "exception": false,
     "start_time": "2023-02-27T13:46:06.411700",
     "status": "completed"
    },
    "tags": []
   },
   "outputs": [],
   "source": [
    "# model.evaluate(train_ds)"
   ]
  },
  {
   "cell_type": "code",
   "execution_count": 19,
   "id": "dfbdba11",
   "metadata": {
    "execution": {
     "iopub.execute_input": "2023-02-27T13:46:06.446816Z",
     "iopub.status.busy": "2023-02-27T13:46:06.445351Z",
     "iopub.status.idle": "2023-02-27T13:46:06.461768Z",
     "shell.execute_reply": "2023-02-27T13:46:06.460729Z"
    },
    "papermill": {
     "duration": 0.028078,
     "end_time": "2023-02-27T13:46:06.464027",
     "exception": false,
     "start_time": "2023-02-27T13:46:06.435949",
     "status": "completed"
    },
    "tags": []
   },
   "outputs": [
    {
     "data": {
      "text/html": [
       "<div>\n",
       "<style scoped>\n",
       "    .dataframe tbody tr th:only-of-type {\n",
       "        vertical-align: middle;\n",
       "    }\n",
       "\n",
       "    .dataframe tbody tr th {\n",
       "        vertical-align: top;\n",
       "    }\n",
       "\n",
       "    .dataframe thead th {\n",
       "        text-align: right;\n",
       "    }\n",
       "</style>\n",
       "<table border=\"1\" class=\"dataframe\">\n",
       "  <thead>\n",
       "    <tr style=\"text-align: right;\">\n",
       "      <th></th>\n",
       "      <th>site_id</th>\n",
       "      <th>patient_id</th>\n",
       "      <th>image_id</th>\n",
       "      <th>laterality</th>\n",
       "      <th>view</th>\n",
       "      <th>age</th>\n",
       "      <th>implant</th>\n",
       "      <th>machine_id</th>\n",
       "      <th>prediction_id</th>\n",
       "      <th>file_path</th>\n",
       "    </tr>\n",
       "  </thead>\n",
       "  <tbody>\n",
       "    <tr>\n",
       "      <th>0</th>\n",
       "      <td>2</td>\n",
       "      <td>10008</td>\n",
       "      <td>736471439</td>\n",
       "      <td>L</td>\n",
       "      <td>MLO</td>\n",
       "      <td>81</td>\n",
       "      <td>0</td>\n",
       "      <td>21</td>\n",
       "      <td>10008_L</td>\n",
       "      <td>/kaggle/input/rsna-breast-cancer-detection/tes...</td>\n",
       "    </tr>\n",
       "    <tr>\n",
       "      <th>1</th>\n",
       "      <td>2</td>\n",
       "      <td>10008</td>\n",
       "      <td>1591370361</td>\n",
       "      <td>L</td>\n",
       "      <td>CC</td>\n",
       "      <td>81</td>\n",
       "      <td>0</td>\n",
       "      <td>21</td>\n",
       "      <td>10008_L</td>\n",
       "      <td>/kaggle/input/rsna-breast-cancer-detection/tes...</td>\n",
       "    </tr>\n",
       "    <tr>\n",
       "      <th>2</th>\n",
       "      <td>2</td>\n",
       "      <td>10008</td>\n",
       "      <td>68070693</td>\n",
       "      <td>R</td>\n",
       "      <td>MLO</td>\n",
       "      <td>81</td>\n",
       "      <td>0</td>\n",
       "      <td>21</td>\n",
       "      <td>10008_R</td>\n",
       "      <td>/kaggle/input/rsna-breast-cancer-detection/tes...</td>\n",
       "    </tr>\n",
       "    <tr>\n",
       "      <th>3</th>\n",
       "      <td>2</td>\n",
       "      <td>10008</td>\n",
       "      <td>361203119</td>\n",
       "      <td>R</td>\n",
       "      <td>CC</td>\n",
       "      <td>81</td>\n",
       "      <td>0</td>\n",
       "      <td>21</td>\n",
       "      <td>10008_R</td>\n",
       "      <td>/kaggle/input/rsna-breast-cancer-detection/tes...</td>\n",
       "    </tr>\n",
       "  </tbody>\n",
       "</table>\n",
       "</div>"
      ],
      "text/plain": [
       "   site_id  patient_id    image_id laterality view  age  implant  machine_id  \\\n",
       "0        2       10008   736471439          L  MLO   81        0          21   \n",
       "1        2       10008  1591370361          L   CC   81        0          21   \n",
       "2        2       10008    68070693          R  MLO   81        0          21   \n",
       "3        2       10008   361203119          R   CC   81        0          21   \n",
       "\n",
       "  prediction_id                                          file_path  \n",
       "0       10008_L  /kaggle/input/rsna-breast-cancer-detection/tes...  \n",
       "1       10008_L  /kaggle/input/rsna-breast-cancer-detection/tes...  \n",
       "2       10008_R  /kaggle/input/rsna-breast-cancer-detection/tes...  \n",
       "3       10008_R  /kaggle/input/rsna-breast-cancer-detection/tes...  "
      ]
     },
     "execution_count": 19,
     "metadata": {},
     "output_type": "execute_result"
    }
   ],
   "source": [
    "test_df.head()"
   ]
  },
  {
   "cell_type": "code",
   "execution_count": 20,
   "id": "f6036af2",
   "metadata": {
    "execution": {
     "iopub.execute_input": "2023-02-27T13:46:06.483072Z",
     "iopub.status.busy": "2023-02-27T13:46:06.482253Z",
     "iopub.status.idle": "2023-02-27T13:46:16.976822Z",
     "shell.execute_reply": "2023-02-27T13:46:16.975827Z"
    },
    "papermill": {
     "duration": 10.506594,
     "end_time": "2023-02-27T13:46:16.979221",
     "exception": false,
     "start_time": "2023-02-27T13:46:06.472627",
     "status": "completed"
    },
    "tags": []
   },
   "outputs": [
    {
     "name": "stdout",
     "output_type": "stream",
     "text": [
      "1/1 [==============================] - 10s 10s/step\n"
     ]
    }
   ],
   "source": [
    "test_df['cancer'] = model.predict(test_ds).flatten()"
   ]
  },
  {
   "cell_type": "code",
   "execution_count": 21,
   "id": "1ed16818",
   "metadata": {
    "execution": {
     "iopub.execute_input": "2023-02-27T13:46:16.998808Z",
     "iopub.status.busy": "2023-02-27T13:46:16.997900Z",
     "iopub.status.idle": "2023-02-27T13:46:17.010773Z",
     "shell.execute_reply": "2023-02-27T13:46:17.009829Z"
    },
    "papermill": {
     "duration": 0.024828,
     "end_time": "2023-02-27T13:46:17.013037",
     "exception": false,
     "start_time": "2023-02-27T13:46:16.988209",
     "status": "completed"
    },
    "tags": []
   },
   "outputs": [],
   "source": [
    "results = test_df.groupby(\"prediction_id\", as_index=False)['cancer'].mean()\n",
    "results['cancer'] = (results['cancer'] > 0.25).astype(int)\n",
    "results.to_csv(\"submission.csv\", index=False)"
   ]
  },
  {
   "cell_type": "code",
   "execution_count": 22,
   "id": "eb4d013d",
   "metadata": {
    "execution": {
     "iopub.execute_input": "2023-02-27T13:46:17.032518Z",
     "iopub.status.busy": "2023-02-27T13:46:17.032229Z",
     "iopub.status.idle": "2023-02-27T13:46:17.040741Z",
     "shell.execute_reply": "2023-02-27T13:46:17.039688Z"
    },
    "papermill": {
     "duration": 0.020471,
     "end_time": "2023-02-27T13:46:17.042791",
     "exception": false,
     "start_time": "2023-02-27T13:46:17.022320",
     "status": "completed"
    },
    "tags": []
   },
   "outputs": [
    {
     "data": {
      "text/html": [
       "<div>\n",
       "<style scoped>\n",
       "    .dataframe tbody tr th:only-of-type {\n",
       "        vertical-align: middle;\n",
       "    }\n",
       "\n",
       "    .dataframe tbody tr th {\n",
       "        vertical-align: top;\n",
       "    }\n",
       "\n",
       "    .dataframe thead th {\n",
       "        text-align: right;\n",
       "    }\n",
       "</style>\n",
       "<table border=\"1\" class=\"dataframe\">\n",
       "  <thead>\n",
       "    <tr style=\"text-align: right;\">\n",
       "      <th></th>\n",
       "      <th>prediction_id</th>\n",
       "      <th>cancer</th>\n",
       "    </tr>\n",
       "  </thead>\n",
       "  <tbody>\n",
       "    <tr>\n",
       "      <th>0</th>\n",
       "      <td>10008_L</td>\n",
       "      <td>0</td>\n",
       "    </tr>\n",
       "    <tr>\n",
       "      <th>1</th>\n",
       "      <td>10008_R</td>\n",
       "      <td>0</td>\n",
       "    </tr>\n",
       "  </tbody>\n",
       "</table>\n",
       "</div>"
      ],
      "text/plain": [
       "  prediction_id  cancer\n",
       "0       10008_L       0\n",
       "1       10008_R       0"
      ]
     },
     "execution_count": 22,
     "metadata": {},
     "output_type": "execute_result"
    }
   ],
   "source": [
    "results"
   ]
  },
  {
   "cell_type": "code",
   "execution_count": null,
   "id": "01401e6c",
   "metadata": {
    "papermill": {
     "duration": 0.008594,
     "end_time": "2023-02-27T13:46:17.060106",
     "exception": false,
     "start_time": "2023-02-27T13:46:17.051512",
     "status": "completed"
    },
    "tags": []
   },
   "outputs": [],
   "source": []
  },
  {
   "cell_type": "code",
   "execution_count": null,
   "id": "54b1234b",
   "metadata": {
    "papermill": {
     "duration": 0.008526,
     "end_time": "2023-02-27T13:46:17.077528",
     "exception": false,
     "start_time": "2023-02-27T13:46:17.069002",
     "status": "completed"
    },
    "tags": []
   },
   "outputs": [],
   "source": []
  },
  {
   "cell_type": "code",
   "execution_count": null,
   "id": "e7e4366c",
   "metadata": {
    "papermill": {
     "duration": 0.00862,
     "end_time": "2023-02-27T13:46:17.094981",
     "exception": false,
     "start_time": "2023-02-27T13:46:17.086361",
     "status": "completed"
    },
    "tags": []
   },
   "outputs": [],
   "source": []
  },
  {
   "cell_type": "code",
   "execution_count": null,
   "id": "6b376fac",
   "metadata": {
    "papermill": {
     "duration": 0.008507,
     "end_time": "2023-02-27T13:46:17.112369",
     "exception": false,
     "start_time": "2023-02-27T13:46:17.103862",
     "status": "completed"
    },
    "tags": []
   },
   "outputs": [],
   "source": []
  }
 ],
 "metadata": {
  "kernelspec": {
   "display_name": "Python 3",
   "language": "python",
   "name": "python3"
  },
  "language_info": {
   "codemirror_mode": {
    "name": "ipython",
    "version": 3
   },
   "file_extension": ".py",
   "mimetype": "text/x-python",
   "name": "python",
   "nbconvert_exporter": "python",
   "pygments_lexer": "ipython3",
   "version": "3.7.12"
  },
  "papermill": {
   "default_parameters": {},
   "duration": 102.832611,
   "end_time": "2023-02-27T13:46:20.627797",
   "environment_variables": {},
   "exception": null,
   "input_path": "__notebook__.ipynb",
   "output_path": "__notebook__.ipynb",
   "parameters": {},
   "start_time": "2023-02-27T13:44:37.795186",
   "version": "2.4.0"
  }
 },
 "nbformat": 4,
 "nbformat_minor": 5
}
